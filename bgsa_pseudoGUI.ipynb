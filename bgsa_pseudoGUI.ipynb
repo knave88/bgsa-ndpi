{
 "cells": [
  {
   "cell_type": "markdown",
   "metadata": {
    "id": "f284thhYmhi8"
   },
   "source": [
    "# BGSA - Images (e.g. JPG)"
   ]
  },
  {
   "cell_type": "markdown",
   "metadata": {},
   "source": [
    "****\n",
    "### Code starts here"
   ]
  },
  {
   "cell_type": "code",
   "execution_count": null,
   "metadata": {
    "cellView": "form",
    "id": "bofq2PWTHbHQ"
   },
   "outputs": [],
   "source": [
    "import os\n",
    "import numpy as np\n",
    "from PIL import Image \n",
    "from scipy.misc import *\n",
    "#from argparse import ArgumentParser\n",
    "from bgsa_utils import *\n",
    "\n",
    "from ipywidgets import widgets\n",
    "from IPython.display import FileLink\n",
    "\n",
    "import matplotlib.pyplot as plt\n",
    "%matplotlib inline"
   ]
  },
  {
   "cell_type": "code",
   "execution_count": null,
   "metadata": {},
   "outputs": [],
   "source": [
    "uploader = widgets.FileUpload()"
   ]
  },
  {
   "cell_type": "code",
   "execution_count": null,
   "metadata": {},
   "outputs": [],
   "source": [
    "def fun_proc(inputBrightness,inputContrast,inputHue,inputSaturation):\n",
    "  print('Processing...')\n",
    "\n",
    "  #get default parameter values\n",
    "  brightness = int(inputBrightness.value)\n",
    "  contrast = int(inputContrast.value)\n",
    "  hue = int(inputHue.value)\n",
    "  saturation = float(inputSaturation.value)\n",
    "\n",
    "  #default file\n",
    "  file_path = 'gland_86_2.jpg'\n",
    "\n",
    "  # if image was uploaded\n",
    "  #if bool(uploader.value):\n",
    "  #  uploaded_filename = next(iter(uploader.value))\n",
    "  #  content = uploader.value[uploaded_filename]['content']\n",
    "  #  with open('myfile', 'wb') as f: f.write(content)\n",
    "  #  file_path = './myfile'\n",
    "\n",
    "  im = Image.open(os.path.join(os.getcwd(), file_path), mode='r')  \n",
    "  red_im = get_red(im, brightness, contrast)\n",
    "  brown_im = get_brown(im, brightness, contrast, hue, saturation)\n",
    "\n",
    "  brown_pix = get_white_pixels(brown_im)\n",
    "  red_pix = get_white_pixels(red_im)\n",
    "\n",
    "  print(\"Set parameters:\")\n",
    "  print(\"Brightness \"+str(brightness))\n",
    "  print(\"contrast \"+str(contrast))\n",
    "  print(\"hue \"+str(hue))\n",
    "  print(\"saturation \"+str(saturation))\n",
    "    \n",
    "  print(\"\\n\")\n",
    "  print(\"Results:\")\n",
    "  print(\"brown pixels \"+str(brown_pix))\n",
    "  print(\"red pixels \"+str(red_pix))\n",
    "  \n",
    "  fig, ax = plt.subplots(1,3, figsize=(20, 20))\n",
    "  ax[0].imshow(im)\n",
    "  ax[0].axis('off')\n",
    "  ax[0].set_title(\"Original image\")\n",
    "  ax[1].imshow(brown_im)\n",
    "  ax[1].set_title(\"Brown mask\")\n",
    "  ax[2].imshow(red_im)\n",
    "  ax[2].set_title(\"Red mask\")\n",
    "  \n",
    "  brown_im.save(file_path + \"_brown.png\", \"PNG\")\n",
    "  red_im.save(file_path + \"_red.png\", \"PNG\")\n",
    "\n",
    "  print(\"\\n\")\n",
    "  print(\"Links to download mask images: \")\n",
    "  display(FileLink(\"./\" + file_path + \"_brown.png\"))\n",
    "  display(FileLink(\"./\" + file_path + \"_red.png\"))\n"
   ]
  },
  {
   "cell_type": "code",
   "execution_count": null,
   "metadata": {},
   "outputs": [],
   "source": [
    "def pseudo_GUI():\n",
    "    # displaying the text widget\n",
    "    inputBrightness = widgets.Text(description=\"Brightness\", width=50, value=str(-100))\n",
    "    display(inputBrightness)\n",
    "\n",
    "    inputContrast = widgets.Text(description=\"Contrast\", width=50, value=str(300))\n",
    "    display(inputContrast)\n",
    "\n",
    "    inputHue = widgets.Text(description=\"Hue\", width=50, value=str(-90))\n",
    "    display(inputHue)\n",
    "\n",
    "    inputSaturation = widgets.Text(description=\"Saturation\", width=50, value=str(0.65))\n",
    "    display(inputSaturation)\n",
    "\n",
    "    button = widgets.Button(description = 'Calculate!')\n",
    "    display(button)\n",
    "\n",
    "    def on_button_clicked(self):\n",
    "        fun_proc(inputBrightness,inputContrast,inputHue,inputSaturation)\n",
    "    button.on_click(on_button_clicked)"
   ]
  },
  {
   "cell_type": "markdown",
   "metadata": {},
   "source": [
    "### Code ends here\n",
    "****"
   ]
  },
  {
   "cell_type": "markdown",
   "metadata": {
    "id": "wmFexa5Q0_ff"
   },
   "source": [
    "### Optional upload (single image, max. 10MB):\n",
    "\n",
    "If there is no upload, use default test image."
   ]
  },
  {
   "cell_type": "code",
   "execution_count": null,
   "metadata": {
    "cellView": "form",
    "colab": {
     "base_uri": "https://localhost:8080/",
     "height": 49,
     "referenced_widgets": [
      "b094856ccd564fdab4519f5db9981c99",
      "65c6dc6c56224950ad3d45def42faaef",
      "48e35b4ff5cc43038725802f153c9d8e"
     ]
    },
    "id": "hKJlOunGgflF",
    "outputId": "1fe449d2-f1d5-4a21-b74e-6fff5d2ad323"
   },
   "outputs": [],
   "source": [
    "uploader"
   ]
  },
  {
   "cell_type": "markdown",
   "metadata": {},
   "source": [
    "## BGSA method pseudo-GUI\n",
    "Set values of method parameters (default preloaded).\n",
    "Click 'Calculate!' button to begin processing.\n"
   ]
  },
  {
   "cell_type": "code",
   "execution_count": null,
   "metadata": {
    "cellView": "form",
    "id": "QyKz3mHbuMbd",
    "scrolled": false
   },
   "outputs": [],
   "source": [
    "pseudo_GUI()\n"
   ]
  },
  {
   "cell_type": "code",
   "execution_count": null,
   "metadata": {},
   "outputs": [],
   "source": []
  },
  {
   "cell_type": "markdown",
   "metadata": {
    "id": "04OmajvpHjBd"
   },
   "source": [
    "# BGSA - NDPI example"
   ]
  },
  {
   "cell_type": "markdown",
   "metadata": {
    "id": "WuaxaFMq5JxP"
   },
   "source": [
    "### Parameters of WSI loading"
   ]
  },
  {
   "cell_type": "code",
   "execution_count": null,
   "metadata": {
    "id": "AZ5U4L69TK8y"
   },
   "outputs": [],
   "source": [
    "split = 2\n",
    "level = 3"
   ]
  },
  {
   "cell_type": "markdown",
   "metadata": {
    "id": "mv3ngUce5Nxs"
   },
   "source": [
    "### Load example WSI and process as a whole"
   ]
  },
  {
   "cell_type": "code",
   "execution_count": null,
   "metadata": {
    "cellView": "form",
    "colab": {
     "base_uri": "https://localhost:8080/",
     "height": 952
    },
    "id": "Ejsruyl9IhYo",
    "outputId": "e65ac861-6c4d-4ab9-dd3e-07368af2f30c"
   },
   "outputs": [],
   "source": [
    "#@title\n",
    "from openslide import OpenSlide\n",
    "import zipfile\n",
    "\n",
    "!wget http://openslide.cs.cmu.edu/download/openslide-testdata/Mirax/CMU-1-Saved-1_16.zip\n",
    "\n",
    "with zipfile.ZipFile(\"CMU-1-Saved-1_16.zip\",\"r\") as zip_ref:\n",
    "    zip_ref.extractall(\"test_mrxs\")\n",
    "\n",
    "\n",
    "ndpi         = OpenSlide('./test_mrxs/CMU-1-Saved-1_16.mrxs')\n",
    "ndpi_width   = ndpi.dimensions[0]\n",
    "ndpi_height  = ndpi.dimensions[1]\n",
    "total_width  = ndpi.level_dimensions[level][0]\n",
    "total_height = ndpi.level_dimensions[level][1]\n",
    "\n",
    "\n",
    "x     = 0\n",
    "y     = 0\n",
    "w     = round(total_width-1)\n",
    "h     = round(total_height-1)\n",
    "\n",
    "region  = ndpi.read_region((x,y), level, (w, h))\n",
    "red     = get_red(region)\n",
    "brown   = get_brown(region)\n",
    "\n",
    "\n",
    "fig, ax = plt.subplots(1,3, figsize=(20, 20))\n",
    "ax[0].imshow(region)\n",
    "ax[0].axis('off')\n",
    "ax[0].set_title(\"Original image\")\n",
    "ax[1].imshow(brown)\n",
    "ax[1].set_title(\"Brown mask\")\n",
    "ax[2].imshow(red)\n",
    "ax[2].set_title(\"Red mask\")\n"
   ]
  },
  {
   "cell_type": "markdown",
   "metadata": {
    "id": "aM3xg5XM73Kr"
   },
   "source": [
    "### Show split of example WSI and numerical result"
   ]
  },
  {
   "cell_type": "code",
   "execution_count": null,
   "metadata": {
    "cellView": "form",
    "colab": {
     "base_uri": "https://localhost:8080/",
     "height": 354
    },
    "id": "8cUZJXpu95An",
    "outputId": "92cf60d1-7c7b-4b8d-8fbd-9c09b6263ba1"
   },
   "outputs": [],
   "source": [
    "red_sum     = 0.0\n",
    "brown_sum   = 0.0\n",
    "surface_sum = 0.0\n",
    "\n",
    "fig, axs = plt.subplots(split,split)\n",
    "for i in range(split):\n",
    "    for j in range(split):\n",
    "        x     = i * round(ndpi_width / split)\n",
    "        y     = j * round(ndpi_height / split)\n",
    "        w     = round(total_width / split)\n",
    "        h     = round(total_height / split)\n",
    "        \n",
    "        region  = ndpi.read_region((x,y), level, (w, h))\n",
    "        #print(str(i)+' '+str(j))\n",
    "        axs[i, j].imshow(region)\n",
    "        red     = get_red(region)\n",
    "        brown   = get_brown(region)\n",
    "\n",
    "        red_sum    += get_white_pixels(red)\n",
    "        brown_sum  += get_white_pixels(brown)   \n",
    "\n",
    "print(\"Sum of red pixels: \" + str(red_sum))\n",
    "print(\"Sum of brown pixels: \"  + str(brown_sum))\n",
    "\n",
    "print(\"\\n\")\n",
    "print(\"Split WSI: \" )"
   ]
  },
  {
   "cell_type": "code",
   "execution_count": null,
   "metadata": {
    "id": "64qbKUnodTaA"
   },
   "outputs": [],
   "source": []
  }
 ],
 "metadata": {
  "colab": {
   "collapsed_sections": [],
   "name": "bgsa_pseudoGUI.ipynb",
   "provenance": [],
   "toc_visible": true
  },
  "kernelspec": {
   "display_name": "Python 3",
   "language": "python",
   "name": "python3"
  },
  "language_info": {
   "codemirror_mode": {
    "name": "ipython",
    "version": 3
   },
   "file_extension": ".py",
   "mimetype": "text/x-python",
   "name": "python",
   "nbconvert_exporter": "python",
   "pygments_lexer": "ipython3",
   "version": "3.6.5"
  },
  "varInspector": {
   "cols": {
    "lenName": 16,
    "lenType": 16,
    "lenVar": 40
   },
   "kernels_config": {
    "python": {
     "delete_cmd_postfix": "",
     "delete_cmd_prefix": "del ",
     "library": "var_list.py",
     "varRefreshCmd": "print(var_dic_list())"
    },
    "r": {
     "delete_cmd_postfix": ") ",
     "delete_cmd_prefix": "rm(",
     "library": "var_list.r",
     "varRefreshCmd": "cat(var_dic_list()) "
    }
   },
   "types_to_exclude": [
    "module",
    "function",
    "builtin_function_or_method",
    "instance",
    "_Feature"
   ],
   "window_display": false
  },
  "widgets": {
   "application/vnd.jupyter.widget-state+json": {
    "0c3871e4368245ec930013ed16f597a9": {
     "model_module": "@jupyter-widgets/base",
     "model_name": "LayoutModel",
     "state": {
      "_model_module": "@jupyter-widgets/base",
      "_model_module_version": "1.2.0",
      "_model_name": "LayoutModel",
      "_view_count": null,
      "_view_module": "@jupyter-widgets/base",
      "_view_module_version": "1.2.0",
      "_view_name": "LayoutView",
      "align_content": null,
      "align_items": null,
      "align_self": null,
      "border": null,
      "bottom": null,
      "display": null,
      "flex": null,
      "flex_flow": null,
      "grid_area": null,
      "grid_auto_columns": null,
      "grid_auto_flow": null,
      "grid_auto_rows": null,
      "grid_column": null,
      "grid_gap": null,
      "grid_row": null,
      "grid_template_areas": null,
      "grid_template_columns": null,
      "grid_template_rows": null,
      "height": null,
      "justify_content": null,
      "justify_items": null,
      "left": null,
      "margin": null,
      "max_height": null,
      "max_width": null,
      "min_height": null,
      "min_width": null,
      "object_fit": null,
      "object_position": null,
      "order": null,
      "overflow": null,
      "overflow_x": null,
      "overflow_y": null,
      "padding": null,
      "right": null,
      "top": null,
      "visibility": null,
      "width": null
     }
    },
    "19708456fdff497f84368da7d9e2a7b8": {
     "model_module": "@jupyter-widgets/base",
     "model_name": "LayoutModel",
     "state": {
      "_model_module": "@jupyter-widgets/base",
      "_model_module_version": "1.2.0",
      "_model_name": "LayoutModel",
      "_view_count": null,
      "_view_module": "@jupyter-widgets/base",
      "_view_module_version": "1.2.0",
      "_view_name": "LayoutView",
      "align_content": null,
      "align_items": null,
      "align_self": null,
      "border": null,
      "bottom": null,
      "display": null,
      "flex": null,
      "flex_flow": null,
      "grid_area": null,
      "grid_auto_columns": null,
      "grid_auto_flow": null,
      "grid_auto_rows": null,
      "grid_column": null,
      "grid_gap": null,
      "grid_row": null,
      "grid_template_areas": null,
      "grid_template_columns": null,
      "grid_template_rows": null,
      "height": null,
      "justify_content": null,
      "justify_items": null,
      "left": null,
      "margin": null,
      "max_height": null,
      "max_width": null,
      "min_height": null,
      "min_width": null,
      "object_fit": null,
      "object_position": null,
      "order": null,
      "overflow": null,
      "overflow_x": null,
      "overflow_y": null,
      "padding": null,
      "right": null,
      "top": null,
      "visibility": null,
      "width": null
     }
    },
    "25c63e43960d45c3be0fe11dd7b685cc": {
     "model_module": "@jupyter-widgets/controls",
     "model_name": "DescriptionStyleModel",
     "state": {
      "_model_module": "@jupyter-widgets/controls",
      "_model_module_version": "1.5.0",
      "_model_name": "DescriptionStyleModel",
      "_view_count": null,
      "_view_module": "@jupyter-widgets/base",
      "_view_module_version": "1.2.0",
      "_view_name": "StyleView",
      "description_width": ""
     }
    },
    "2abdf15c4db340fa85349049858e17dc": {
     "model_module": "@jupyter-widgets/base",
     "model_name": "LayoutModel",
     "state": {
      "_model_module": "@jupyter-widgets/base",
      "_model_module_version": "1.2.0",
      "_model_name": "LayoutModel",
      "_view_count": null,
      "_view_module": "@jupyter-widgets/base",
      "_view_module_version": "1.2.0",
      "_view_name": "LayoutView",
      "align_content": null,
      "align_items": null,
      "align_self": null,
      "border": null,
      "bottom": null,
      "display": null,
      "flex": null,
      "flex_flow": null,
      "grid_area": null,
      "grid_auto_columns": null,
      "grid_auto_flow": null,
      "grid_auto_rows": null,
      "grid_column": null,
      "grid_gap": null,
      "grid_row": null,
      "grid_template_areas": null,
      "grid_template_columns": null,
      "grid_template_rows": null,
      "height": null,
      "justify_content": null,
      "justify_items": null,
      "left": null,
      "margin": null,
      "max_height": null,
      "max_width": null,
      "min_height": null,
      "min_width": null,
      "object_fit": null,
      "object_position": null,
      "order": null,
      "overflow": null,
      "overflow_x": null,
      "overflow_y": null,
      "padding": null,
      "right": null,
      "top": null,
      "visibility": null,
      "width": null
     }
    },
    "3763e24e0698448e978cf04e4c8a71d7": {
     "model_module": "@jupyter-widgets/controls",
     "model_name": "TextModel",
     "state": {
      "_dom_classes": [],
      "_model_module": "@jupyter-widgets/controls",
      "_model_module_version": "1.5.0",
      "_model_name": "TextModel",
      "_view_count": null,
      "_view_module": "@jupyter-widgets/controls",
      "_view_module_version": "1.5.0",
      "_view_name": "TextView",
      "continuous_update": true,
      "description": "Hue",
      "description_tooltip": null,
      "disabled": false,
      "layout": "IPY_MODEL_19708456fdff497f84368da7d9e2a7b8",
      "placeholder": "​",
      "style": "IPY_MODEL_25c63e43960d45c3be0fe11dd7b685cc",
      "value": "-90"
     }
    },
    "3fb3b50d51ba4872903eefb606a6a1d5": {
     "model_module": "@jupyter-widgets/controls",
     "model_name": "ButtonStyleModel",
     "state": {
      "_model_module": "@jupyter-widgets/controls",
      "_model_module_version": "1.5.0",
      "_model_name": "ButtonStyleModel",
      "_view_count": null,
      "_view_module": "@jupyter-widgets/base",
      "_view_module_version": "1.2.0",
      "_view_name": "StyleView",
      "button_color": null,
      "font_weight": ""
     }
    },
    "48e35b4ff5cc43038725802f153c9d8e": {
     "model_module": "@jupyter-widgets/base",
     "model_name": "LayoutModel",
     "state": {
      "_model_module": "@jupyter-widgets/base",
      "_model_module_version": "1.2.0",
      "_model_name": "LayoutModel",
      "_view_count": null,
      "_view_module": "@jupyter-widgets/base",
      "_view_module_version": "1.2.0",
      "_view_name": "LayoutView",
      "align_content": null,
      "align_items": null,
      "align_self": null,
      "border": null,
      "bottom": null,
      "display": null,
      "flex": null,
      "flex_flow": null,
      "grid_area": null,
      "grid_auto_columns": null,
      "grid_auto_flow": null,
      "grid_auto_rows": null,
      "grid_column": null,
      "grid_gap": null,
      "grid_row": null,
      "grid_template_areas": null,
      "grid_template_columns": null,
      "grid_template_rows": null,
      "height": null,
      "justify_content": null,
      "justify_items": null,
      "left": null,
      "margin": null,
      "max_height": null,
      "max_width": null,
      "min_height": null,
      "min_width": null,
      "object_fit": null,
      "object_position": null,
      "order": null,
      "overflow": null,
      "overflow_x": null,
      "overflow_y": null,
      "padding": null,
      "right": null,
      "top": null,
      "visibility": null,
      "width": null
     }
    },
    "61befae22394469cbe35ad72e3a434e4": {
     "model_module": "@jupyter-widgets/controls",
     "model_name": "TextModel",
     "state": {
      "_dom_classes": [],
      "_model_module": "@jupyter-widgets/controls",
      "_model_module_version": "1.5.0",
      "_model_name": "TextModel",
      "_view_count": null,
      "_view_module": "@jupyter-widgets/controls",
      "_view_module_version": "1.5.0",
      "_view_name": "TextView",
      "continuous_update": true,
      "description": "Brightness",
      "description_tooltip": null,
      "disabled": false,
      "layout": "IPY_MODEL_f48033201a904e0eba43409032022b46",
      "placeholder": "​",
      "style": "IPY_MODEL_76b5cfe55f454e9e910c2a2065fa7ab9",
      "value": "-100"
     }
    },
    "65c6dc6c56224950ad3d45def42faaef": {
     "model_module": "@jupyter-widgets/controls",
     "model_name": "ButtonStyleModel",
     "state": {
      "_model_module": "@jupyter-widgets/controls",
      "_model_module_version": "1.5.0",
      "_model_name": "ButtonStyleModel",
      "_view_count": null,
      "_view_module": "@jupyter-widgets/base",
      "_view_module_version": "1.2.0",
      "_view_name": "StyleView",
      "button_color": null,
      "font_weight": ""
     }
    },
    "661e97651615424c88ae00798e1781d7": {
     "model_module": "@jupyter-widgets/controls",
     "model_name": "DescriptionStyleModel",
     "state": {
      "_model_module": "@jupyter-widgets/controls",
      "_model_module_version": "1.5.0",
      "_model_name": "DescriptionStyleModel",
      "_view_count": null,
      "_view_module": "@jupyter-widgets/base",
      "_view_module_version": "1.2.0",
      "_view_name": "StyleView",
      "description_width": ""
     }
    },
    "76b5cfe55f454e9e910c2a2065fa7ab9": {
     "model_module": "@jupyter-widgets/controls",
     "model_name": "DescriptionStyleModel",
     "state": {
      "_model_module": "@jupyter-widgets/controls",
      "_model_module_version": "1.5.0",
      "_model_name": "DescriptionStyleModel",
      "_view_count": null,
      "_view_module": "@jupyter-widgets/base",
      "_view_module_version": "1.2.0",
      "_view_name": "StyleView",
      "description_width": ""
     }
    },
    "7dde147b45da4b8b9d45b45380ffeebb": {
     "model_module": "@jupyter-widgets/controls",
     "model_name": "ButtonModel",
     "state": {
      "_dom_classes": [],
      "_model_module": "@jupyter-widgets/controls",
      "_model_module_version": "1.5.0",
      "_model_name": "ButtonModel",
      "_view_count": null,
      "_view_module": "@jupyter-widgets/controls",
      "_view_module_version": "1.5.0",
      "_view_name": "ButtonView",
      "button_style": "",
      "description": "Calculate!",
      "disabled": false,
      "icon": "",
      "layout": "IPY_MODEL_0c3871e4368245ec930013ed16f597a9",
      "style": "IPY_MODEL_3fb3b50d51ba4872903eefb606a6a1d5",
      "tooltip": ""
     }
    },
    "971fd224e3c044629a6415d291be1500": {
     "model_module": "@jupyter-widgets/base",
     "model_name": "LayoutModel",
     "state": {
      "_model_module": "@jupyter-widgets/base",
      "_model_module_version": "1.2.0",
      "_model_name": "LayoutModel",
      "_view_count": null,
      "_view_module": "@jupyter-widgets/base",
      "_view_module_version": "1.2.0",
      "_view_name": "LayoutView",
      "align_content": null,
      "align_items": null,
      "align_self": null,
      "border": null,
      "bottom": null,
      "display": null,
      "flex": null,
      "flex_flow": null,
      "grid_area": null,
      "grid_auto_columns": null,
      "grid_auto_flow": null,
      "grid_auto_rows": null,
      "grid_column": null,
      "grid_gap": null,
      "grid_row": null,
      "grid_template_areas": null,
      "grid_template_columns": null,
      "grid_template_rows": null,
      "height": null,
      "justify_content": null,
      "justify_items": null,
      "left": null,
      "margin": null,
      "max_height": null,
      "max_width": null,
      "min_height": null,
      "min_width": null,
      "object_fit": null,
      "object_position": null,
      "order": null,
      "overflow": null,
      "overflow_x": null,
      "overflow_y": null,
      "padding": null,
      "right": null,
      "top": null,
      "visibility": null,
      "width": null
     }
    },
    "b094856ccd564fdab4519f5db9981c99": {
     "model_module": "@jupyter-widgets/controls",
     "model_name": "FileUploadModel",
     "state": {
      "_counter": 0,
      "_dom_classes": [],
      "_model_module": "@jupyter-widgets/controls",
      "_model_module_version": "1.5.0",
      "_model_name": "FileUploadModel",
      "_view_count": null,
      "_view_module": "@jupyter-widgets/controls",
      "_view_module_version": "1.5.0",
      "_view_name": "FileUploadView",
      "accept": "",
      "button_style": "",
      "data": [],
      "description": "Upload",
      "description_tooltip": null,
      "disabled": false,
      "error": "",
      "icon": "upload",
      "layout": "IPY_MODEL_48e35b4ff5cc43038725802f153c9d8e",
      "metadata": [],
      "multiple": false,
      "style": "IPY_MODEL_65c6dc6c56224950ad3d45def42faaef"
     }
    },
    "deabc1a8508d48afac745c75ff3f7ec3": {
     "model_module": "@jupyter-widgets/controls",
     "model_name": "DescriptionStyleModel",
     "state": {
      "_model_module": "@jupyter-widgets/controls",
      "_model_module_version": "1.5.0",
      "_model_name": "DescriptionStyleModel",
      "_view_count": null,
      "_view_module": "@jupyter-widgets/base",
      "_view_module_version": "1.2.0",
      "_view_name": "StyleView",
      "description_width": ""
     }
    },
    "f48033201a904e0eba43409032022b46": {
     "model_module": "@jupyter-widgets/base",
     "model_name": "LayoutModel",
     "state": {
      "_model_module": "@jupyter-widgets/base",
      "_model_module_version": "1.2.0",
      "_model_name": "LayoutModel",
      "_view_count": null,
      "_view_module": "@jupyter-widgets/base",
      "_view_module_version": "1.2.0",
      "_view_name": "LayoutView",
      "align_content": null,
      "align_items": null,
      "align_self": null,
      "border": null,
      "bottom": null,
      "display": null,
      "flex": null,
      "flex_flow": null,
      "grid_area": null,
      "grid_auto_columns": null,
      "grid_auto_flow": null,
      "grid_auto_rows": null,
      "grid_column": null,
      "grid_gap": null,
      "grid_row": null,
      "grid_template_areas": null,
      "grid_template_columns": null,
      "grid_template_rows": null,
      "height": null,
      "justify_content": null,
      "justify_items": null,
      "left": null,
      "margin": null,
      "max_height": null,
      "max_width": null,
      "min_height": null,
      "min_width": null,
      "object_fit": null,
      "object_position": null,
      "order": null,
      "overflow": null,
      "overflow_x": null,
      "overflow_y": null,
      "padding": null,
      "right": null,
      "top": null,
      "visibility": null,
      "width": null
     }
    },
    "f64f631a4b89496999f4ea152350b71b": {
     "model_module": "@jupyter-widgets/controls",
     "model_name": "TextModel",
     "state": {
      "_dom_classes": [],
      "_model_module": "@jupyter-widgets/controls",
      "_model_module_version": "1.5.0",
      "_model_name": "TextModel",
      "_view_count": null,
      "_view_module": "@jupyter-widgets/controls",
      "_view_module_version": "1.5.0",
      "_view_name": "TextView",
      "continuous_update": true,
      "description": "Saturation",
      "description_tooltip": null,
      "disabled": false,
      "layout": "IPY_MODEL_2abdf15c4db340fa85349049858e17dc",
      "placeholder": "​",
      "style": "IPY_MODEL_deabc1a8508d48afac745c75ff3f7ec3",
      "value": "0.65"
     }
    },
    "f7fc0b7f12c54e0c81f90a7f57b0c7bf": {
     "model_module": "@jupyter-widgets/controls",
     "model_name": "TextModel",
     "state": {
      "_dom_classes": [],
      "_model_module": "@jupyter-widgets/controls",
      "_model_module_version": "1.5.0",
      "_model_name": "TextModel",
      "_view_count": null,
      "_view_module": "@jupyter-widgets/controls",
      "_view_module_version": "1.5.0",
      "_view_name": "TextView",
      "continuous_update": true,
      "description": "Contrast",
      "description_tooltip": null,
      "disabled": false,
      "layout": "IPY_MODEL_971fd224e3c044629a6415d291be1500",
      "placeholder": "​",
      "style": "IPY_MODEL_661e97651615424c88ae00798e1781d7",
      "value": "300"
     }
    }
   }
  }
 },
 "nbformat": 4,
 "nbformat_minor": 1
}
