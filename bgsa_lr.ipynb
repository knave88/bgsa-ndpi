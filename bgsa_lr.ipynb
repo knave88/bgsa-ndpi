{
  "nbformat": 4,
  "nbformat_minor": 0,
  "metadata": {
    "colab": {
      "name": "bgsa_lr.ipynb",
      "provenance": [],
      "collapsed_sections": [],
      "toc_visible": true
    },
    "kernelspec": {
      "display_name": "Python 3",
      "language": "python",
      "name": "python3"
    },
    "language_info": {
      "codemirror_mode": {
        "name": "ipython",
        "version": 3
      },
      "file_extension": ".py",
      "mimetype": "text/x-python",
      "name": "python",
      "nbconvert_exporter": "python",
      "pygments_lexer": "ipython3",
      "version": "3.7.3"
    },
    "widgets": {
      "application/vnd.jupyter.widget-state+json": {
        "77d27f3f7a4d44d9ade2c09bb79caf23": {
          "model_module": "@jupyter-widgets/controls",
          "model_name": "TextModel",
          "state": {
            "_view_name": "TextView",
            "style": "IPY_MODEL_f738317a69594ceba921856be9d86b9c",
            "_dom_classes": [],
            "description": "Brightness",
            "_model_name": "TextModel",
            "placeholder": "​",
            "_view_module": "@jupyter-widgets/controls",
            "_model_module_version": "1.5.0",
            "value": "-100",
            "_view_count": null,
            "disabled": false,
            "_view_module_version": "1.5.0",
            "continuous_update": true,
            "description_tooltip": null,
            "_model_module": "@jupyter-widgets/controls",
            "layout": "IPY_MODEL_f06fd7ea645c42b387135bab9c9583f8"
          }
        },
        "f738317a69594ceba921856be9d86b9c": {
          "model_module": "@jupyter-widgets/controls",
          "model_name": "DescriptionStyleModel",
          "state": {
            "_view_name": "StyleView",
            "_model_name": "DescriptionStyleModel",
            "description_width": "",
            "_view_module": "@jupyter-widgets/base",
            "_model_module_version": "1.5.0",
            "_view_count": null,
            "_view_module_version": "1.2.0",
            "_model_module": "@jupyter-widgets/controls"
          }
        },
        "f06fd7ea645c42b387135bab9c9583f8": {
          "model_module": "@jupyter-widgets/base",
          "model_name": "LayoutModel",
          "state": {
            "_view_name": "LayoutView",
            "grid_template_rows": null,
            "right": null,
            "justify_content": null,
            "_view_module": "@jupyter-widgets/base",
            "overflow": null,
            "_model_module_version": "1.2.0",
            "_view_count": null,
            "flex_flow": null,
            "width": null,
            "min_width": null,
            "border": null,
            "align_items": null,
            "bottom": null,
            "_model_module": "@jupyter-widgets/base",
            "top": null,
            "grid_column": null,
            "overflow_y": null,
            "overflow_x": null,
            "grid_auto_flow": null,
            "grid_area": null,
            "grid_template_columns": null,
            "flex": null,
            "_model_name": "LayoutModel",
            "justify_items": null,
            "grid_row": null,
            "max_height": null,
            "align_content": null,
            "visibility": null,
            "align_self": null,
            "height": null,
            "min_height": null,
            "padding": null,
            "grid_auto_rows": null,
            "grid_gap": null,
            "max_width": null,
            "order": null,
            "_view_module_version": "1.2.0",
            "grid_template_areas": null,
            "object_position": null,
            "object_fit": null,
            "grid_auto_columns": null,
            "margin": null,
            "display": null,
            "left": null
          }
        },
        "34be7a4232584b00b202592fa946d748": {
          "model_module": "@jupyter-widgets/controls",
          "model_name": "TextModel",
          "state": {
            "_view_name": "TextView",
            "style": "IPY_MODEL_f2fd8baecd024f78841b56615567700d",
            "_dom_classes": [],
            "description": "Contrast",
            "_model_name": "TextModel",
            "placeholder": "​",
            "_view_module": "@jupyter-widgets/controls",
            "_model_module_version": "1.5.0",
            "value": "300",
            "_view_count": null,
            "disabled": false,
            "_view_module_version": "1.5.0",
            "continuous_update": true,
            "description_tooltip": null,
            "_model_module": "@jupyter-widgets/controls",
            "layout": "IPY_MODEL_9337a2c370fb40fab6b820c39fef9223"
          }
        },
        "f2fd8baecd024f78841b56615567700d": {
          "model_module": "@jupyter-widgets/controls",
          "model_name": "DescriptionStyleModel",
          "state": {
            "_view_name": "StyleView",
            "_model_name": "DescriptionStyleModel",
            "description_width": "",
            "_view_module": "@jupyter-widgets/base",
            "_model_module_version": "1.5.0",
            "_view_count": null,
            "_view_module_version": "1.2.0",
            "_model_module": "@jupyter-widgets/controls"
          }
        },
        "9337a2c370fb40fab6b820c39fef9223": {
          "model_module": "@jupyter-widgets/base",
          "model_name": "LayoutModel",
          "state": {
            "_view_name": "LayoutView",
            "grid_template_rows": null,
            "right": null,
            "justify_content": null,
            "_view_module": "@jupyter-widgets/base",
            "overflow": null,
            "_model_module_version": "1.2.0",
            "_view_count": null,
            "flex_flow": null,
            "width": null,
            "min_width": null,
            "border": null,
            "align_items": null,
            "bottom": null,
            "_model_module": "@jupyter-widgets/base",
            "top": null,
            "grid_column": null,
            "overflow_y": null,
            "overflow_x": null,
            "grid_auto_flow": null,
            "grid_area": null,
            "grid_template_columns": null,
            "flex": null,
            "_model_name": "LayoutModel",
            "justify_items": null,
            "grid_row": null,
            "max_height": null,
            "align_content": null,
            "visibility": null,
            "align_self": null,
            "height": null,
            "min_height": null,
            "padding": null,
            "grid_auto_rows": null,
            "grid_gap": null,
            "max_width": null,
            "order": null,
            "_view_module_version": "1.2.0",
            "grid_template_areas": null,
            "object_position": null,
            "object_fit": null,
            "grid_auto_columns": null,
            "margin": null,
            "display": null,
            "left": null
          }
        },
        "8bd397034b614103bf2cd1ef61689707": {
          "model_module": "@jupyter-widgets/controls",
          "model_name": "TextModel",
          "state": {
            "_view_name": "TextView",
            "style": "IPY_MODEL_98937d3eb01343b99daa3bd9b89061f9",
            "_dom_classes": [],
            "description": "Hue",
            "_model_name": "TextModel",
            "placeholder": "​",
            "_view_module": "@jupyter-widgets/controls",
            "_model_module_version": "1.5.0",
            "value": "-90",
            "_view_count": null,
            "disabled": false,
            "_view_module_version": "1.5.0",
            "continuous_update": true,
            "description_tooltip": null,
            "_model_module": "@jupyter-widgets/controls",
            "layout": "IPY_MODEL_2cb6fb0c36584c04b80a1f7788fdea5f"
          }
        },
        "98937d3eb01343b99daa3bd9b89061f9": {
          "model_module": "@jupyter-widgets/controls",
          "model_name": "DescriptionStyleModel",
          "state": {
            "_view_name": "StyleView",
            "_model_name": "DescriptionStyleModel",
            "description_width": "",
            "_view_module": "@jupyter-widgets/base",
            "_model_module_version": "1.5.0",
            "_view_count": null,
            "_view_module_version": "1.2.0",
            "_model_module": "@jupyter-widgets/controls"
          }
        },
        "2cb6fb0c36584c04b80a1f7788fdea5f": {
          "model_module": "@jupyter-widgets/base",
          "model_name": "LayoutModel",
          "state": {
            "_view_name": "LayoutView",
            "grid_template_rows": null,
            "right": null,
            "justify_content": null,
            "_view_module": "@jupyter-widgets/base",
            "overflow": null,
            "_model_module_version": "1.2.0",
            "_view_count": null,
            "flex_flow": null,
            "width": null,
            "min_width": null,
            "border": null,
            "align_items": null,
            "bottom": null,
            "_model_module": "@jupyter-widgets/base",
            "top": null,
            "grid_column": null,
            "overflow_y": null,
            "overflow_x": null,
            "grid_auto_flow": null,
            "grid_area": null,
            "grid_template_columns": null,
            "flex": null,
            "_model_name": "LayoutModel",
            "justify_items": null,
            "grid_row": null,
            "max_height": null,
            "align_content": null,
            "visibility": null,
            "align_self": null,
            "height": null,
            "min_height": null,
            "padding": null,
            "grid_auto_rows": null,
            "grid_gap": null,
            "max_width": null,
            "order": null,
            "_view_module_version": "1.2.0",
            "grid_template_areas": null,
            "object_position": null,
            "object_fit": null,
            "grid_auto_columns": null,
            "margin": null,
            "display": null,
            "left": null
          }
        },
        "94d57d8f3ec3435a91e17fadc9312f6e": {
          "model_module": "@jupyter-widgets/controls",
          "model_name": "TextModel",
          "state": {
            "_view_name": "TextView",
            "style": "IPY_MODEL_895c2f33d3394b57932b0fcc1eb3c754",
            "_dom_classes": [],
            "description": "Saturation",
            "_model_name": "TextModel",
            "placeholder": "​",
            "_view_module": "@jupyter-widgets/controls",
            "_model_module_version": "1.5.0",
            "value": "0.65",
            "_view_count": null,
            "disabled": false,
            "_view_module_version": "1.5.0",
            "continuous_update": true,
            "description_tooltip": null,
            "_model_module": "@jupyter-widgets/controls",
            "layout": "IPY_MODEL_9d77a9bcf0634de19375f6b203e9a0a7"
          }
        },
        "895c2f33d3394b57932b0fcc1eb3c754": {
          "model_module": "@jupyter-widgets/controls",
          "model_name": "DescriptionStyleModel",
          "state": {
            "_view_name": "StyleView",
            "_model_name": "DescriptionStyleModel",
            "description_width": "",
            "_view_module": "@jupyter-widgets/base",
            "_model_module_version": "1.5.0",
            "_view_count": null,
            "_view_module_version": "1.2.0",
            "_model_module": "@jupyter-widgets/controls"
          }
        },
        "9d77a9bcf0634de19375f6b203e9a0a7": {
          "model_module": "@jupyter-widgets/base",
          "model_name": "LayoutModel",
          "state": {
            "_view_name": "LayoutView",
            "grid_template_rows": null,
            "right": null,
            "justify_content": null,
            "_view_module": "@jupyter-widgets/base",
            "overflow": null,
            "_model_module_version": "1.2.0",
            "_view_count": null,
            "flex_flow": null,
            "width": null,
            "min_width": null,
            "border": null,
            "align_items": null,
            "bottom": null,
            "_model_module": "@jupyter-widgets/base",
            "top": null,
            "grid_column": null,
            "overflow_y": null,
            "overflow_x": null,
            "grid_auto_flow": null,
            "grid_area": null,
            "grid_template_columns": null,
            "flex": null,
            "_model_name": "LayoutModel",
            "justify_items": null,
            "grid_row": null,
            "max_height": null,
            "align_content": null,
            "visibility": null,
            "align_self": null,
            "height": null,
            "min_height": null,
            "padding": null,
            "grid_auto_rows": null,
            "grid_gap": null,
            "max_width": null,
            "order": null,
            "_view_module_version": "1.2.0",
            "grid_template_areas": null,
            "object_position": null,
            "object_fit": null,
            "grid_auto_columns": null,
            "margin": null,
            "display": null,
            "left": null
          }
        },
        "6d36ae6fb98c43aab0c958907e321297": {
          "model_module": "@jupyter-widgets/controls",
          "model_name": "ButtonModel",
          "state": {
            "_view_name": "ButtonView",
            "style": "IPY_MODEL_6379991b456e41358eca3276fbaf5d89",
            "_dom_classes": [],
            "description": "Calculate!",
            "_model_name": "ButtonModel",
            "button_style": "",
            "_view_module": "@jupyter-widgets/controls",
            "_model_module_version": "1.5.0",
            "tooltip": "",
            "_view_count": null,
            "disabled": false,
            "_view_module_version": "1.5.0",
            "layout": "IPY_MODEL_2db0784e98964e40b92d9da4582535a1",
            "_model_module": "@jupyter-widgets/controls",
            "icon": ""
          }
        },
        "6379991b456e41358eca3276fbaf5d89": {
          "model_module": "@jupyter-widgets/controls",
          "model_name": "ButtonStyleModel",
          "state": {
            "_view_name": "StyleView",
            "_model_name": "ButtonStyleModel",
            "_view_module": "@jupyter-widgets/base",
            "_model_module_version": "1.5.0",
            "_view_count": null,
            "button_color": null,
            "font_weight": "",
            "_view_module_version": "1.2.0",
            "_model_module": "@jupyter-widgets/controls"
          }
        },
        "2db0784e98964e40b92d9da4582535a1": {
          "model_module": "@jupyter-widgets/base",
          "model_name": "LayoutModel",
          "state": {
            "_view_name": "LayoutView",
            "grid_template_rows": null,
            "right": null,
            "justify_content": null,
            "_view_module": "@jupyter-widgets/base",
            "overflow": null,
            "_model_module_version": "1.2.0",
            "_view_count": null,
            "flex_flow": null,
            "width": null,
            "min_width": null,
            "border": null,
            "align_items": null,
            "bottom": null,
            "_model_module": "@jupyter-widgets/base",
            "top": null,
            "grid_column": null,
            "overflow_y": null,
            "overflow_x": null,
            "grid_auto_flow": null,
            "grid_area": null,
            "grid_template_columns": null,
            "flex": null,
            "_model_name": "LayoutModel",
            "justify_items": null,
            "grid_row": null,
            "max_height": null,
            "align_content": null,
            "visibility": null,
            "align_self": null,
            "height": null,
            "min_height": null,
            "padding": null,
            "grid_auto_rows": null,
            "grid_gap": null,
            "max_width": null,
            "order": null,
            "_view_module_version": "1.2.0",
            "grid_template_areas": null,
            "object_position": null,
            "object_fit": null,
            "grid_auto_columns": null,
            "margin": null,
            "display": null,
            "left": null
          }
        }
      }
    }
  },
  "cells": [
    {
      "cell_type": "markdown",
      "metadata": {
        "id": "f284thhYmhi8"
      },
      "source": [
        "#BGSA - JPG"
      ]
    },
    {
      "cell_type": "code",
      "metadata": {
        "id": "bofq2PWTHbHQ"
      },
      "source": [
        "import os\r\n",
        "import numpy as np\r\n",
        "from PIL import Image \r\n",
        "from scipy.misc import *\r\n",
        "#from argparse import ArgumentParser\r\n",
        "from bgsa_utils import *\r\n",
        "\r\n",
        "import matplotlib.pyplot as plt\r\n",
        "%matplotlib inline"
      ],
      "execution_count": 56,
      "outputs": []
    },
    {
      "cell_type": "code",
      "metadata": {
        "id": "Op_1-m0bVG-e"
      },
      "source": [
        " #!git clone https://github.com/dridk/bgsa-ndpi"
      ],
      "execution_count": 57,
      "outputs": []
    },
    {
      "cell_type": "code",
      "metadata": {
        "id": "sywl2aTwQEOT"
      },
      "source": [
        "\n",
        "file_path = 'gland_86_2.jpg'"
      ],
      "execution_count": 58,
      "outputs": []
    },
    {
      "cell_type": "code",
      "metadata": {
        "id": "hKJlOunGgflF"
      },
      "source": [
        ""
      ],
      "execution_count": 58,
      "outputs": []
    },
    {
      "cell_type": "code",
      "metadata": {
        "id": "y7KC3bhJgfcw"
      },
      "source": [
        "from ipywidgets import widgets"
      ],
      "execution_count": 59,
      "outputs": []
    },
    {
      "cell_type": "code",
      "metadata": {
        "id": "QyKz3mHbuMbd"
      },
      "source": [
        "def on_button_clicked(b):\r\n",
        "  print('Begin of calculation...')\r\n",
        "  brightness = inputBrightness\r\n",
        "  contrast = inputContrast\r\n",
        "  hue = inputHue\r\n",
        "  saturation = inputSaturation\r\n",
        "  "
      ],
      "execution_count": 60,
      "outputs": []
    },
    {
      "cell_type": "code",
      "metadata": {
        "colab": {
          "base_uri": "https://localhost:8080/",
          "height": 171,
          "referenced_widgets": [
            "77d27f3f7a4d44d9ade2c09bb79caf23",
            "f738317a69594ceba921856be9d86b9c",
            "f06fd7ea645c42b387135bab9c9583f8",
            "34be7a4232584b00b202592fa946d748",
            "f2fd8baecd024f78841b56615567700d",
            "9337a2c370fb40fab6b820c39fef9223",
            "8bd397034b614103bf2cd1ef61689707",
            "98937d3eb01343b99daa3bd9b89061f9",
            "2cb6fb0c36584c04b80a1f7788fdea5f",
            "94d57d8f3ec3435a91e17fadc9312f6e",
            "895c2f33d3394b57932b0fcc1eb3c754",
            "9d77a9bcf0634de19375f6b203e9a0a7",
            "6d36ae6fb98c43aab0c958907e321297",
            "6379991b456e41358eca3276fbaf5d89",
            "2db0784e98964e40b92d9da4582535a1"
          ]
        },
        "id": "zIVDyw3VgfZ6",
        "outputId": "64d8a23f-ad52-4938-cec7-7aa07548892c"
      },
      "source": [
        "# displaying the text widget\r\n",
        "inputBrightness = widgets.Text(description=\"Brightness\", width=50, value=str(-100))\r\n",
        "display(inputBrightness)\r\n",
        "\r\n",
        "inputContrast = widgets.Text(description=\"Contrast\", width=50, value=str(300))\r\n",
        "display(inputContrast)\r\n",
        "\r\n",
        "inputHue = widgets.Text(description=\"Hue\", width=50, value=str(-90))\r\n",
        "display(inputHue)\r\n",
        "\r\n",
        "inputSaturation = widgets.Text(description=\"Saturation\", width=50, value=str(0.65))\r\n",
        "display(inputSaturation)\r\n",
        "\r\n",
        "button = widgets.Button(description = 'Calculate!')\r\n",
        "display(button)\r\n",
        "\r\n",
        "button.on_click(on_button_clicked)"
      ],
      "execution_count": 61,
      "outputs": [
        {
          "output_type": "display_data",
          "data": {
            "application/vnd.jupyter.widget-view+json": {
              "model_id": "77d27f3f7a4d44d9ade2c09bb79caf23",
              "version_minor": 0,
              "version_major": 2
            },
            "text/plain": [
              "Text(value='-100', description='Brightness')"
            ]
          },
          "metadata": {
            "tags": []
          }
        },
        {
          "output_type": "display_data",
          "data": {
            "application/vnd.jupyter.widget-view+json": {
              "model_id": "34be7a4232584b00b202592fa946d748",
              "version_minor": 0,
              "version_major": 2
            },
            "text/plain": [
              "Text(value='300', description='Contrast')"
            ]
          },
          "metadata": {
            "tags": []
          }
        },
        {
          "output_type": "display_data",
          "data": {
            "application/vnd.jupyter.widget-view+json": {
              "model_id": "8bd397034b614103bf2cd1ef61689707",
              "version_minor": 0,
              "version_major": 2
            },
            "text/plain": [
              "Text(value='-90', description='Hue')"
            ]
          },
          "metadata": {
            "tags": []
          }
        },
        {
          "output_type": "display_data",
          "data": {
            "application/vnd.jupyter.widget-view+json": {
              "model_id": "94d57d8f3ec3435a91e17fadc9312f6e",
              "version_minor": 0,
              "version_major": 2
            },
            "text/plain": [
              "Text(value='0.65', description='Saturation')"
            ]
          },
          "metadata": {
            "tags": []
          }
        },
        {
          "output_type": "display_data",
          "data": {
            "application/vnd.jupyter.widget-view+json": {
              "model_id": "6d36ae6fb98c43aab0c958907e321297",
              "version_minor": 0,
              "version_major": 2
            },
            "text/plain": [
              "Button(description='Calculate!', style=ButtonStyle())"
            ]
          },
          "metadata": {
            "tags": []
          }
        }
      ]
    },
    {
      "cell_type": "code",
      "metadata": {
        "colab": {
          "base_uri": "https://localhost:8080/"
        },
        "id": "n42UrrKEtzC8",
        "outputId": "ef0d4826-d368-4ce2-efa1-a0522814ef89"
      },
      "source": [
        "np.uint8(int(inputBrightness.value)).dtype"
      ],
      "execution_count": 62,
      "outputs": [
        {
          "output_type": "execute_result",
          "data": {
            "text/plain": [
              "dtype('uint8')"
            ]
          },
          "metadata": {
            "tags": []
          },
          "execution_count": 62
        }
      ]
    },
    {
      "cell_type": "markdown",
      "metadata": {
        "id": "n-Z7Aesnu2ju"
      },
      "source": [
        "## get_red"
      ]
    },
    {
      "cell_type": "code",
      "metadata": {
        "id": "ghjZu8AloMMl"
      },
      "source": [
        "im = Image.open(os.path.join(os.getcwd(), file_path), mode='r')  "
      ],
      "execution_count": 63,
      "outputs": []
    },
    {
      "cell_type": "code",
      "metadata": {
        "id": "iO5m3Ja3NRxR"
      },
      "source": [
        "red_im = get_red(im)"
      ],
      "execution_count": 64,
      "outputs": []
    },
    {
      "cell_type": "code",
      "metadata": {
        "colab": {
          "base_uri": "https://localhost:8080/",
          "height": 257
        },
        "id": "J0ZLY9Xs95Ae",
        "outputId": "cfe0c045-1fef-4901-8867-b963681573e0"
      },
      "source": [
        "plt.imshow(red_im)\n",
        "plt.axis('off')"
      ],
      "execution_count": 65,
      "outputs": [
        {
          "output_type": "execute_result",
          "data": {
            "text/plain": [
              "(-0.5, 1279.5, 799.5, -0.5)"
            ]
          },
          "metadata": {
            "tags": []
          },
          "execution_count": 65
        },
        {
          "output_type": "display_data",
          "data": {
            "image/png": "[encoded data removed]",
            "text/plain": [
              "<Figure size 432x288 with 1 Axes>"
            ]
          },
          "metadata": {
            "tags": [],
            "needs_background": "light"
          }
        }
      ]
    },
    {
      "cell_type": "markdown",
      "metadata": {
        "id": "UYyHmoktcLQg"
      },
      "source": [
        "## get_brown"
      ]
    },
    {
      "cell_type": "code",
      "metadata": {
        "id": "Hz_8vQ-F8C4s"
      },
      "source": [
        "brown_im = get_brown(im)"
      ],
      "execution_count": 66,
      "outputs": []
    },
    {
      "cell_type": "code",
      "metadata": {
        "colab": {
          "base_uri": "https://localhost:8080/",
          "height": 257
        },
        "id": "k3nTfJ_G95Ag",
        "outputId": "8fa856a3-5725-4784-c80e-aae8fb4af971"
      },
      "source": [
        "plt.imshow(brown_im)\n",
        "plt.axis('off')"
      ],
      "execution_count": 67,
      "outputs": [
        {
          "output_type": "execute_result",
          "data": {
            "text/plain": [
              "(-0.5, 1279.5, 799.5, -0.5)"
            ]
          },
          "metadata": {
            "tags": []
          },
          "execution_count": 67
        },
        {
          "output_type": "display_data",
          "data": {
            "image/png": "[encoded data removed]",
            "text/plain": [
              "<Figure size 432x288 with 1 Axes>"
            ]
          },
          "metadata": {
            "tags": [],
            "needs_background": "light"
          }
        }
      ]
    },
    {
      "cell_type": "markdown",
      "metadata": {
        "id": "luxE_KnW-Psc"
      },
      "source": [
        "## get_white_pixels"
      ]
    },
    {
      "cell_type": "code",
      "metadata": {
        "id": "km0a53Ro-fNm"
      },
      "source": [
        "brown_pix = get_white_pixels(brown_im)\r\n",
        "red_pix = get_white_pixels(red_im)"
      ],
      "execution_count": 68,
      "outputs": []
    },
    {
      "cell_type": "code",
      "metadata": {
        "colab": {
          "base_uri": "https://localhost:8080/"
        },
        "id": "yWzHKme5-mLu",
        "outputId": "d7e8a3e1-f989-420a-ffe4-40fd49881b7d"
      },
      "source": [
        "print(brown_pix)\r\n",
        "print(red_pix)"
      ],
      "execution_count": 69,
      "outputs": [
        {
          "output_type": "stream",
          "text": [
            "133418\n",
            "25618\n"
          ],
          "name": "stdout"
        }
      ]
    },
    {
      "cell_type": "markdown",
      "metadata": {
        "id": "04OmajvpHjBd"
      },
      "source": [
        "#BGSA - NDPI\n"
      ]
    },
    {
      "cell_type": "code",
      "metadata": {
        "colab": {
          "base_uri": "https://localhost:8080/"
        },
        "id": "09Z1IERufkGC",
        "outputId": "1653f620-796e-4b0f-a4fd-5e02cdd528d3"
      },
      "source": [
        "!apt-get install openslide-tools"
      ],
      "execution_count": 11,
      "outputs": [
        {
          "output_type": "stream",
          "text": [
            "Reading package lists... Done\n",
            "Building dependency tree       \n",
            "Reading state information... Done\n",
            "The following additional packages will be installed:\n",
            "  libopenslide0\n",
            "Suggested packages:\n",
            "  libtiff-tools\n",
            "The following NEW packages will be installed:\n",
            "  libopenslide0 openslide-tools\n",
            "0 upgraded, 2 newly installed, 0 to remove and 15 not upgraded.\n",
            "Need to get 92.5 kB of archives.\n",
            "After this operation, 268 kB of additional disk space will be used.\n",
            "Get:1 http://archive.ubuntu.com/ubuntu bionic/universe amd64 libopenslide0 amd64 3.4.1+dfsg-2 [79.8 kB]\n",
            "Get:2 http://archive.ubuntu.com/ubuntu bionic/universe amd64 openslide-tools amd64 3.4.1+dfsg-2 [12.7 kB]\n",
            "Fetched 92.5 kB in 1s (184 kB/s)\n",
            "Selecting previously unselected package libopenslide0.\n",
            "(Reading database ... 146456 files and directories currently installed.)\n",
            "Preparing to unpack .../libopenslide0_3.4.1+dfsg-2_amd64.deb ...\n",
            "Unpacking libopenslide0 (3.4.1+dfsg-2) ...\n",
            "Selecting previously unselected package openslide-tools.\n",
            "Preparing to unpack .../openslide-tools_3.4.1+dfsg-2_amd64.deb ...\n",
            "Unpacking openslide-tools (3.4.1+dfsg-2) ...\n",
            "Setting up libopenslide0 (3.4.1+dfsg-2) ...\n",
            "Setting up openslide-tools (3.4.1+dfsg-2) ...\n",
            "Processing triggers for libc-bin (2.27-3ubuntu1.3) ...\n",
            "/sbin/ldconfig.real: /usr/local/lib/python3.6/dist-packages/ideep4py/lib/libmkldnn.so.0 is not a symbolic link\n",
            "\n",
            "Processing triggers for man-db (2.8.3-2ubuntu0.1) ...\n"
          ],
          "name": "stdout"
        }
      ]
    },
    {
      "cell_type": "code",
      "metadata": {
        "colab": {
          "base_uri": "https://localhost:8080/"
        },
        "id": "PNMsiPwKIXet",
        "outputId": "8cdaa17d-f2b5-4d36-fd89-52d1447a7d42"
      },
      "source": [
        " !pip  install openslide-python"
      ],
      "execution_count": 12,
      "outputs": [
        {
          "output_type": "stream",
          "text": [
            "Collecting openslide-python\n",
            "\u001b[?25l  Downloading https://files.pythonhosted.org/packages/03/da/12dc0e7566ace61a5a65244220458dcb656b09cbf18ca50f3098875d97e4/openslide-python-1.1.2.tar.gz (316kB)\n",
            "\u001b[K     |████████████████████████████████| 317kB 4.1MB/s \n",
            "\u001b[?25hRequirement already satisfied: Pillow in /usr/local/lib/python3.6/dist-packages (from openslide-python) (7.0.0)\n",
            "Building wheels for collected packages: openslide-python\n",
            "  Building wheel for openslide-python (setup.py) ... \u001b[?25l\u001b[?25hdone\n",
            "  Created wheel for openslide-python: filename=openslide_python-1.1.2-cp36-cp36m-linux_x86_64.whl size=26714 sha256=6da8b245f206c46497a9c1c320c62dee1185a52efc407cfa581807c8c391ba5b\n",
            "  Stored in directory: /root/.cache/pip/wheels/6b/55/74/ba9d3dcc2c5c0f1282e08bae70df0ed57b496fb6b5c8f1adc9\n",
            "Successfully built openslide-python\n",
            "Installing collected packages: openslide-python\n",
            "Successfully installed openslide-python-1.1.2\n"
          ],
          "name": "stdout"
        }
      ]
    },
    {
      "cell_type": "code",
      "metadata": {
        "id": "lvJDdyHiQ53K"
      },
      "source": [
        "from openslide import OpenSlide\r\n",
        "import zipfile\r\n"
      ],
      "execution_count": 13,
      "outputs": []
    },
    {
      "cell_type": "code",
      "metadata": {
        "colab": {
          "base_uri": "https://localhost:8080/"
        },
        "id": "OcR2AmEqH6KP",
        "outputId": "ad8c4799-e68f-42dc-fe1c-30394ad255b9"
      },
      "source": [
        "!wget http://openslide.cs.cmu.edu/download/openslide-testdata/Mirax/CMU-1-Saved-1_16.zip"
      ],
      "execution_count": 14,
      "outputs": [
        {
          "output_type": "stream",
          "text": [
            "--2021-02-03 09:48:55--  http://openslide.cs.cmu.edu/download/openslide-testdata/Mirax/CMU-1-Saved-1_16.zip\n",
            "Resolving openslide.cs.cmu.edu (openslide.cs.cmu.edu)... 128.2.209.93\n",
            "Connecting to openslide.cs.cmu.edu (openslide.cs.cmu.edu)|128.2.209.93|:80... connected.\n",
            "HTTP request sent, awaiting response... 200 OK\n",
            "Length: 3754715 (3.6M) [application/zip]\n",
            "Saving to: ‘CMU-1-Saved-1_16.zip’\n",
            "\n",
            "CMU-1-Saved-1_16.zi 100%[===================>]   3.58M  1.82MB/s    in 2.0s    \n",
            "\n",
            "2021-02-03 09:48:57 (1.82 MB/s) - ‘CMU-1-Saved-1_16.zip’ saved [3754715/3754715]\n",
            "\n"
          ],
          "name": "stdout"
        }
      ]
    },
    {
      "cell_type": "code",
      "metadata": {
        "id": "Ejsruyl9IhYo"
      },
      "source": [
        "with zipfile.ZipFile(\"CMU-1-Saved-1_16.zip\",\"r\") as zip_ref:\n",
        "    zip_ref.extractall(\"test_mrxs\")"
      ],
      "execution_count": 15,
      "outputs": []
    },
    {
      "cell_type": "code",
      "metadata": {
        "id": "AZ5U4L69TK8y"
      },
      "source": [
        "split = 2\r\n",
        "level = 3"
      ],
      "execution_count": 31,
      "outputs": []
    },
    {
      "cell_type": "code",
      "metadata": {
        "id": "cAh8Djggqwt5"
      },
      "source": [
        "ndpi         = OpenSlide('/content/test_mrxs/CMU-1-Saved-1_16.mrxs')\n",
        "ndpi_width   = ndpi.dimensions[0]\n",
        "ndpi_height  = ndpi.dimensions[1]\n",
        "total_width  = ndpi.level_dimensions[level][0]\n",
        "total_height = ndpi.level_dimensions[level][1]"
      ],
      "execution_count": 32,
      "outputs": []
    },
    {
      "cell_type": "code",
      "metadata": {
        "id": "rikDCKrorWVE"
      },
      "source": [
        "red_sum     = 0.0\n",
        "brown_sum   = 0.0\n",
        "surface_sum = 0.0"
      ],
      "execution_count": 28,
      "outputs": []
    },
    {
      "cell_type": "code",
      "metadata": {
        "colab": {
          "base_uri": "https://localhost:8080/",
          "height": 337
        },
        "id": "8cUZJXpu95An",
        "outputId": "812383eb-846d-4619-ae83-d3ab2ca2cf62"
      },
      "source": [
        "\r\n",
        "fig, axs = plt.subplots(split,split)\r\n",
        "for i in range(split):\r\n",
        "    for j in range(split):\r\n",
        "        x     = i * round(ndpi_width / split)\r\n",
        "        y     = j * round(ndpi_height / split)\r\n",
        "        w     = round(total_width / split)\r\n",
        "        h     = round(total_height / split)\r\n",
        "        \r\n",
        "        region  = ndpi.read_region((x,y), level, (w, h))\r\n",
        "        print(str(i)+' '+str(j))\r\n",
        "        axs[i, j].imshow(region)\r\n",
        "        red     = get_red(region)\r\n",
        "        brown   = get_brown(region)\r\n",
        "\r\n",
        "        red_sum    += get_white_pixels(red)\r\n",
        "        brown_sum  += get_white_pixels(brown)   \r\n"
      ],
      "execution_count": 29,
      "outputs": [
        {
          "output_type": "stream",
          "text": [
            "0 0\n",
            "0 1\n",
            "1 0\n",
            "1 1\n"
          ],
          "name": "stdout"
        },
        {
          "output_type": "display_data",
          "data": {
            "image/png": "[encoded data removed]",
            "text/plain": [
              "<Figure size 432x288 with 4 Axes>"
            ]
          },
          "metadata": {
            "tags": [],
            "needs_background": "light"
          }
        }
      ]
    },
    {
      "cell_type": "code",
      "metadata": {
        "id": "Iyonm-1mioJ_",
        "colab": {
          "base_uri": "https://localhost:8080/"
        },
        "outputId": "795823bb-67e7-498a-f537-c97e37943549"
      },
      "source": [
        "print(red_sum)\r\n",
        "print(brown_sum)"
      ],
      "execution_count": 21,
      "outputs": [
        {
          "output_type": "stream",
          "text": [
            "5575.0\n",
            "2.0\n"
          ],
          "name": "stdout"
        }
      ]
    },
    {
      "cell_type": "code",
      "metadata": {
        "colab": {
          "base_uri": "https://localhost:8080/",
          "height": 790
        },
        "id": "NK-isQxqc-es",
        "outputId": "0a573057-ceb4-4615-8862-c1a977dc2653"
      },
      "source": [
        "x     = 0\r\n",
        "y     = 0\r\n",
        "w     = round(total_width-1)\r\n",
        "h     = round(total_height-1)\r\n",
        "\r\n",
        "region  = ndpi.read_region((x,y), level, (w, h))\r\n",
        "plt.figure()\r\n",
        "plt.imshow(region)\r\n",
        "\r\n",
        "red     = get_red(region)\r\n",
        "plt.figure()\r\n",
        "plt.imshow(red)\r\n",
        "\r\n",
        "brown   = get_brown(region)\r\n",
        "plt.figure()\r\n",
        "plt.imshow(brown)\r\n"
      ],
      "execution_count": 33,
      "outputs": [
        {
          "output_type": "execute_result",
          "data": {
            "text/plain": [
              "<matplotlib.image.AxesImage at 0x7fe5e5763860>"
            ]
          },
          "metadata": {
            "tags": []
          },
          "execution_count": 33
        },
        {
          "output_type": "display_data",
          "data": {
            "image/png": "[encoded data removed]",
            "text/plain": [
              "<Figure size 432x288 with 1 Axes>"
            ]
          },
          "metadata": {
            "tags": [],
            "needs_background": "light"
          }
        },
        {
          "output_type": "display_data",
          "data": {
            "image/png": "[encoded data removed]",
            "text/plain": [
              "<Figure size 432x288 with 1 Axes>"
            ]
          },
          "metadata": {
            "tags": [],
            "needs_background": "light"
          }
        },
        {
          "output_type": "display_data",
          "data": {
            "image/png": "[encoded data removed]",
            "text/plain": [
              "<Figure size 432x288 with 1 Axes>"
            ]
          },
          "metadata": {
            "tags": [],
            "needs_background": "light"
          }
        }
      ]
    },
    {
      "cell_type": "code",
      "metadata": {
        "id": "64qbKUnodTaA"
      },
      "source": [
        ""
      ],
      "execution_count": null,
      "outputs": []
    }
  ]
}